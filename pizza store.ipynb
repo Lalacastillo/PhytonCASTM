{
 "cells": [
  {
   "cell_type": "code",
   "execution_count": 16,
   "id": "d0202a9f",
   "metadata": {},
   "outputs": [
    {
     "name": "stdout",
     "output_type": "stream",
     "text": [
      "Are you using car : yes\n",
      "enter size of pizza : small\n",
      "enter number of pizza order : 5\n",
      "You have free 500ml coke\n"
     ]
    }
   ],
   "source": [
    "Car = input(\"Are you using car : \")\n",
    "if(Car==\"yes\"):\n",
    "    size = input(\"enter size of pizza : \")\n",
    "    if(size==\"small\", \"medium\", \"large\", \"monster\"):\n",
    "            qty = int(input(\"enter number of pizza order : \"))\n",
    "            if(size==\"small\" and qty>=4):\n",
    "                print(\"You have free 500ml coke\")\n",
    "            elif(size==\"small\" and qty<4):\n",
    "                print(\"you can now take your order\")\n",
    "            elif(size==\"medium\" and qty>=3):\n",
    "                print(\"you have free 1 ltr coke\")\n",
    "            elif(size==\"medium\" and qty<3):\n",
    "                print(\"you can now take your order\")\n",
    "            elif(size==\"large\" and qty>=2):\n",
    "                print(\"you have free ice cream with brownie\")\n",
    "            elif(size==\"large\" and qty<2):\n",
    "                print(\"you can now take your order\")\n",
    "            elif(size==\"monster\"):\n",
    "                print(\"you have free small pizza and 500 coke\")\n",
    "            else:\n",
    "                print(\"pls enter valid value\")\n",
    "elif(Car==\"no\"):\n",
    "    print(\"pls take the store counter to order\")\n",
    "else:\n",
    "    print(\"pls enter yes or no only\")"
   ]
  },
  {
   "cell_type": "code",
   "execution_count": null,
   "id": "9d0d761c",
   "metadata": {},
   "outputs": [],
   "source": []
  }
 ],
 "metadata": {
  "kernelspec": {
   "display_name": "Python 3 (ipykernel)",
   "language": "python",
   "name": "python3"
  },
  "language_info": {
   "codemirror_mode": {
    "name": "ipython",
    "version": 3
   },
   "file_extension": ".py",
   "mimetype": "text/x-python",
   "name": "python",
   "nbconvert_exporter": "python",
   "pygments_lexer": "ipython3",
   "version": "3.11.3"
  }
 },
 "nbformat": 4,
 "nbformat_minor": 5
}
