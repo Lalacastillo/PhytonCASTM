{
 "cells": [
  {
   "cell_type": "code",
   "execution_count": 2,
   "id": "d26c267a",
   "metadata": {},
   "outputs": [
    {
     "name": "stdout",
     "output_type": "stream",
     "text": [
      "Current String : Python Programming\n"
     ]
    }
   ],
   "source": [
    "a = \"Python Programming\"\n",
    "print(\"Current String :\",a)"
   ]
  },
  {
   "cell_type": "code",
   "execution_count": 3,
   "id": "c659d9ff",
   "metadata": {},
   "outputs": [
    {
     "name": "stdout",
     "output_type": "stream",
     "text": [
      "P\n"
     ]
    }
   ],
   "source": [
    "print(a[0])"
   ]
  },
  {
   "cell_type": "code",
   "execution_count": 4,
   "id": "f0e0b09e",
   "metadata": {},
   "outputs": [
    {
     "name": "stdout",
     "output_type": "stream",
     "text": [
      "Print value between index 1 to 6\n",
      "ython \n"
     ]
    }
   ],
   "source": [
    "print(\"Print value between index 1 to 6\")\n",
    "print(a[1:7])"
   ]
  },
  {
   "cell_type": "code",
   "execution_count": 5,
   "id": "99572903",
   "metadata": {},
   "outputs": [
    {
     "name": "stdout",
     "output_type": "stream",
     "text": [
      "Print value between 1 to 8 but altenate\n",
      "ython Pr\n"
     ]
    }
   ],
   "source": [
    "print(\"Print value between 1 to 8 but altenate\")\n",
    "print(a[1:9])"
   ]
  },
  {
   "cell_type": "code",
   "execution_count": null,
   "id": "ea373f8e",
   "metadata": {},
   "outputs": [],
   "source": []
  }
 ],
 "metadata": {
  "kernelspec": {
   "display_name": "Python 3 (ipykernel)",
   "language": "python",
   "name": "python3"
  },
  "language_info": {
   "codemirror_mode": {
    "name": "ipython",
    "version": 3
   },
   "file_extension": ".py",
   "mimetype": "text/x-python",
   "name": "python",
   "nbconvert_exporter": "python",
   "pygments_lexer": "ipython3",
   "version": "3.11.3"
  }
 },
 "nbformat": 4,
 "nbformat_minor": 5
}
