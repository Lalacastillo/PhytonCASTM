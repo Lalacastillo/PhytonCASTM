{
 "cells": [
  {
   "cell_type": "code",
   "execution_count": 1,
   "id": "ef773ec1",
   "metadata": {},
   "outputs": [
    {
     "name": "stdout",
     "output_type": "stream",
     "text": [
      "[1, 2, 3, 4, 5, 10.5, 11.5, 12.5, 13.5, 'A', 'B', 'C', 'D', 'Marilag', 'Vanessa', 'Benjir', 'Lino']\n",
      "<class 'list'>\n"
     ]
    }
   ],
   "source": [
    "l1 = [1,2,3,4,5,10.5,11.5,12.5,13.5,'A','B','C','D',\"Marilag\",\"Vanessa\",\"Benjir\",\"Lino\"]\n",
    "print(l1)\n",
    "print(type(l1))"
   ]
  },
  {
   "cell_type": "code",
   "execution_count": 2,
   "id": "c786bca5",
   "metadata": {},
   "outputs": [
    {
     "name": "stdout",
     "output_type": "stream",
     "text": [
      "Current list :  [1, 2, 3, 4, 5, 10.5, 11.5, 12.5, 13.5, 'A', 'B', 'C', 'D', 'Marilag', 'Vanessa', 'Benjir', 'Lino']\n",
      "Size :  17\n"
     ]
    }
   ],
   "source": [
    "print(\"Current list : \",l1)\n",
    "print(\"Size : \",len(l1))"
   ]
  },
  {
   "cell_type": "code",
   "execution_count": 3,
   "id": "58fe0e37",
   "metadata": {},
   "outputs": [
    {
     "name": "stdout",
     "output_type": "stream",
     "text": [
      "****print a value between 1 to 10****\n",
      "[2, 3, 4, 5, 10.5, 11.5, 12.5, 13.5, 'A', 'B']\n"
     ]
    }
   ],
   "source": [
    "print(\"****print a value between 1 to 10****\")\n",
    "print(l1[1:11])"
   ]
  },
  {
   "cell_type": "code",
   "execution_count": 4,
   "id": "b96e5169",
   "metadata": {},
   "outputs": [
    {
     "name": "stdout",
     "output_type": "stream",
     "text": [
      "****Print all the values after index 2****\n",
      "[3, 4, 5, 10.5, 11.5, 12.5, 13.5, 'A', 'B', 'C', 'D', 'Marilag', 'Vanessa', 'Benjir', 'Lino']\n"
     ]
    }
   ],
   "source": [
    "print(\"****Print all the values after index 2****\")\n",
    "print(l1[2:17])"
   ]
  },
  {
   "cell_type": "code",
   "execution_count": 5,
   "id": "fb27dbe9",
   "metadata": {},
   "outputs": [
    {
     "name": "stdout",
     "output_type": "stream",
     "text": [
      "Current list :  [1, 2, 3, 4, 5, 10.5, 11.5, 12.5, 13.5, 'A', 'B', 'C', 'D', 'Marilag', 'Vanessa', 'Benjir', 'Lino']\n",
      "size :  17\n",
      "update list :  [1, 2, 3, 4, 5, 10.5, 11.5, 12.5, 'sunit', 'A', 'B', 'C', 'D', 'Marilag', 'Vanessa', 'Benjir', 'Lino']\n"
     ]
    }
   ],
   "source": [
    "print(\"Current list : \",l1)\n",
    "print(\"size : \",len(l1))\n",
    "l1[8] = \"sunit\"\n",
    "print(\"update list : \",l1)"
   ]
  },
  {
   "cell_type": "code",
   "execution_count": 6,
   "id": "63223b07",
   "metadata": {},
   "outputs": [
    {
     "name": "stdout",
     "output_type": "stream",
     "text": [
      "Current list :  [1, 2, 3, 4, 5, 10.5, 11.5, 12.5, 'sunit', 'A', 'B', 'C', 'D', 'Marilag', 'Vanessa', 'Benjir', 'Lino']\n",
      "size :  17\n",
      "updated list :  [1, 2, 3, 4, 5, 10.5, 11.5, 12.5, 'sunit', 'A', 'B', 'C', 'D', 'Marilag', 'Vanessa', 'Benjir', 'Lino', 'mango']\n"
     ]
    }
   ],
   "source": [
    "print(\"Current list : \",l1)\n",
    "print(\"size : \",len(l1))\n",
    "l1.append(\"mango\")\n",
    "print(\"updated list : \",l1)"
   ]
  },
  {
   "cell_type": "code",
   "execution_count": 8,
   "id": "c49675d8",
   "metadata": {},
   "outputs": [
    {
     "name": "stdout",
     "output_type": "stream",
     "text": [
      "Current list :  [1, 2, 3, 4, 5, 10.5, 11.5, 12.5, 'sunit', 'A', 'B', 'C', 'D', 'Marilag', 'Vanessa', 'Benjir', 'Lino', 'mango']\n",
      "size :  18\n",
      "updated list :  [1, 3, 4, 5, 10.5, 11.5, 12.5, 'sunit', 'A', 'B', 'C', 'D', 'Marilag', 'Vanessa', 'Benjir', 'Lino', 'mango']\n",
      "size :  17\n"
     ]
    }
   ],
   "source": [
    "print(\"Current list : \",l1)\n",
    "print(\"size : \",len(l1))\n",
    "\n",
    "l1.remove(2)\n",
    "print(\"updated list : \",l1)\n",
    "print(\"size : \",len(l1))"
   ]
  },
  {
   "cell_type": "code",
   "execution_count": 9,
   "id": "8b8b2169",
   "metadata": {},
   "outputs": [
    {
     "name": "stdout",
     "output_type": "stream",
     "text": [
      "Current list :  [1, 3, 4, 5, 10.5, 11.5, 12.5, 'sunit', 'A', 'B', 'C', 'D', 'Marilag', 'Vanessa', 'Benjir', 'Lino', 'mango']\n",
      "size :  17\n",
      "updated list :  [1, 3, 4, 5, 10.5, 11.5, 12.5, 'sunit', 'A', 'B', 'C', 'D', 'Marilag', 'Vanessa', 'Benjir', 'Lino']\n",
      "size :  16\n"
     ]
    }
   ],
   "source": [
    "print(\"Current list : \",l1)\n",
    "print(\"size : \",len(l1))\n",
    "\n",
    "l1.pop()\n",
    "print(\"updated list : \",l1)\n",
    "print(\"size : \",len(l1))\n",
    "\n",
    "    "
   ]
  },
  {
   "cell_type": "code",
   "execution_count": 10,
   "id": "8ce71c2b",
   "metadata": {},
   "outputs": [
    {
     "name": "stdout",
     "output_type": "stream",
     "text": [
      "apple  =  5\n",
      "mango  =  5\n",
      "kiwi  =  4\n",
      "orange  =  6\n"
     ]
    }
   ],
   "source": [
    "l2 = [\"apple\",\"mango\",\"kiwi\",\"orange\"]\n",
    "\n",
    "for i in l2:\n",
    "    print(i,\" = \",len(i))"
   ]
  },
  {
   "cell_type": "code",
   "execution_count": 13,
   "id": "056c0c1e",
   "metadata": {},
   "outputs": [
    {
     "name": "stdout",
     "output_type": "stream",
     "text": [
      "['Mobiles', ['Samsung', 'OnePlus', 'Iphone', [14000, 20000, 40000]], 'Laptop', ['Dell', 'Hp', 'Acer', [25000, 35000, 45000]], 'Clothes', ['Men', 'Women', [50, 100]]]\n"
     ]
    }
   ],
   "source": [
    "Ecommerce = [\n",
    "    \"Mobiles\",[\"Samsung\",\"OnePlus\",\"Iphone\",[14000,20000,40000]],\n",
    "    \"Laptop\",[\"Dell\",\"Hp\",\"Acer\",[25000,35000,45000]],\n",
    "    \"Clothes\",[\"Men\",\"Women\",[50,100]]\n",
    "]\n",
    "print(Ecommerce)"
   ]
  },
  {
   "cell_type": "code",
   "execution_count": 18,
   "id": "36dd4632",
   "metadata": {},
   "outputs": [
    {
     "name": "stderr",
     "output_type": "stream",
     "text": [
      "<>:1: SyntaxWarning: 'tuple' object is not callable; perhaps you missed a comma?\n",
      "<>:1: SyntaxWarning: 'tuple' object is not callable; perhaps you missed a comma?\n",
      "C:\\Users\\ADMIN\\AppData\\Local\\Temp\\ipykernel_1576\\1337487999.py:1: SyntaxWarning: 'tuple' object is not callable; perhaps you missed a comma?\n",
      "  print(Ecommerce,([0],[0],[1,2])([1],[1],[1]))\n"
     ]
    },
    {
     "ename": "TypeError",
     "evalue": "'tuple' object is not callable",
     "output_type": "error",
     "traceback": [
      "\u001b[1;31m---------------------------------------------------------------------------\u001b[0m",
      "\u001b[1;31mTypeError\u001b[0m                                 Traceback (most recent call last)",
      "Cell \u001b[1;32mIn[18], line 1\u001b[0m\n\u001b[1;32m----> 1\u001b[0m \u001b[38;5;28mprint\u001b[39m(Ecommerce,\u001b[43m(\u001b[49m\u001b[43m[\u001b[49m\u001b[38;5;241;43m0\u001b[39;49m\u001b[43m]\u001b[49m\u001b[43m,\u001b[49m\u001b[43m[\u001b[49m\u001b[38;5;241;43m0\u001b[39;49m\u001b[43m]\u001b[49m\u001b[43m,\u001b[49m\u001b[43m[\u001b[49m\u001b[38;5;241;43m1\u001b[39;49m\u001b[43m,\u001b[49m\u001b[38;5;241;43m2\u001b[39;49m\u001b[43m]\u001b[49m\u001b[43m)\u001b[49m\u001b[43m(\u001b[49m\u001b[43m[\u001b[49m\u001b[38;5;241;43m1\u001b[39;49m\u001b[43m]\u001b[49m\u001b[43m,\u001b[49m\u001b[43m[\u001b[49m\u001b[38;5;241;43m1\u001b[39;49m\u001b[43m]\u001b[49m\u001b[43m,\u001b[49m\u001b[43m[\u001b[49m\u001b[38;5;241;43m1\u001b[39;49m\u001b[43m]\u001b[49m\u001b[43m)\u001b[49m)\n",
      "\u001b[1;31mTypeError\u001b[0m: 'tuple' object is not callable"
     ]
    }
   ],
   "source": [
    "print(Ecommerce,([0],[0],[1,2])([1],[1],[1]))"
   ]
  },
  {
   "cell_type": "code",
   "execution_count": null,
   "id": "3079a7d1",
   "metadata": {},
   "outputs": [],
   "source": []
  }
 ],
 "metadata": {
  "kernelspec": {
   "display_name": "Python 3 (ipykernel)",
   "language": "python",
   "name": "python3"
  },
  "language_info": {
   "codemirror_mode": {
    "name": "ipython",
    "version": 3
   },
   "file_extension": ".py",
   "mimetype": "text/x-python",
   "name": "python",
   "nbconvert_exporter": "python",
   "pygments_lexer": "ipython3",
   "version": "3.11.3"
  }
 },
 "nbformat": 4,
 "nbformat_minor": 5
}
