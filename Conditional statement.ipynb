{
 "cells": [
  {
   "cell_type": "code",
   "execution_count": 6,
   "id": "178c4284",
   "metadata": {},
   "outputs": [
    {
     "name": "stdout",
     "output_type": "stream",
     "text": [
      "Enter the value of A : 12\n",
      "Enter the value of B : 4\n",
      "A is greater that B\n"
     ]
    }
   ],
   "source": [
    "a = int(input(\"Enter the value of A : \"))\n",
    "b = int(input(\"Enter the value of B : \"))\n",
    "\n",
    "if(a>b):\n",
    "    print(\"A is greater that B\")"
   ]
  },
  {
   "cell_type": "markdown",
   "id": "d47c1df7",
   "metadata": {},
   "source": [
    "# If_Else"
   ]
  },
  {
   "cell_type": "code",
   "execution_count": 7,
   "id": "d6d8d4a4",
   "metadata": {},
   "outputs": [
    {
     "name": "stdout",
     "output_type": "stream",
     "text": [
      "Enter the value of A : 10\n",
      "Enter the value of B : 20\n",
      "B is greater than A\n"
     ]
    }
   ],
   "source": [
    "a = int(input(\"Enter the value of A : \"))\n",
    "b = int(input(\"Enter the value of B : \"))\n",
    "\n",
    "if(a>b):\n",
    "    print(\"A is greater that B\")\n",
    "else:\n",
    "    print(\"B is greater than A\")"
   ]
  },
  {
   "cell_type": "markdown",
   "id": "347f1906",
   "metadata": {},
   "source": [
    "#odd and even"
   ]
  },
  {
   "cell_type": "code",
   "execution_count": 12,
   "id": "07715632",
   "metadata": {},
   "outputs": [
    {
     "name": "stdout",
     "output_type": "stream",
     "text": [
      "Value : 7\n",
      "7  : Odd Number\n"
     ]
    }
   ],
   "source": [
    "value1 = int(input(\"Value : \"))\n",
    "if(value1%2==0):\n",
    "    print(value1, \" : Even Number\")\n",
    "else:\n",
    "     print(value1, \" : Odd Number\")"
   ]
  },
  {
   "cell_type": "markdown",
   "id": "5e093f94",
   "metadata": {},
   "source": [
    "# IF Else Ladder"
   ]
  },
  {
   "cell_type": "code",
   "execution_count": 15,
   "id": "61227462",
   "metadata": {},
   "outputs": [
    {
     "name": "stdout",
     "output_type": "stream",
     "text": [
      "Enter the value of A : 3\n",
      "Enter the value of B : 2\n",
      "Enter the value of C : 1\n",
      "A is greater tha B and C\n"
     ]
    }
   ],
   "source": [
    "a = int(input(\"Enter the value of A : \"))\n",
    "b = int(input(\"Enter the value of B : \"))\n",
    "c = int(input(\"Enter the value of C : \"))\n",
    "if(a>b and a>c):\n",
    "    print(\"A is greater tha B and C\")\n",
    "elif(b>a and b>c):\n",
    "    print(\"B is greater than A and C\")\n",
    "else:\n",
    "    print(\"C is greater that A and B\")\n"
   ]
  },
  {
   "cell_type": "code",
   "execution_count": 16,
   "id": "c0089fe2",
   "metadata": {},
   "outputs": [
    {
     "name": "stdout",
     "output_type": "stream",
     "text": [
      "Enter the value of A : 2\n",
      "Enter the value of B : 3\n",
      "Enter the value of C : 4\n",
      "4  : is greater than  2  and  3\n"
     ]
    }
   ],
   "source": [
    "a = int(input(\"Enter the value of A : \"))\n",
    "b = int(input(\"Enter the value of B : \"))\n",
    "c = int(input(\"Enter the value of C : \"))\n",
    "if(a>b and a>c):\n",
    "    print(a, \" : is greater than \",b,\" and \",c)\n",
    "elif(b>a and b>c):\n",
    "     print(b, \" : is greater than \",a,\" and \",c)\n",
    "else:\n",
    "    print(c, \" : is greater than \",a,\" and \",b)"
   ]
  },
  {
   "cell_type": "markdown",
   "id": "37580fba",
   "metadata": {},
   "source": [
    "Percentage is greater than 70 --- Dist\n",
    "%  is between 65 to 70 ---- 1st class\n",
    "%  is between 60 to 65 ---- 2nd class\n",
    "%  is between 55 to 60 ---- 3rd class\n",
    "%  is below 55 ---- fail"
   ]
  },
  {
   "cell_type": "code",
   "execution_count": 34,
   "id": "c04842ba",
   "metadata": {},
   "outputs": [
    {
     "name": "stdout",
     "output_type": "stream",
     "text": [
      "value : 71\n",
      "Dist\n"
     ]
    }
   ],
   "source": [
    "value1 = int(input(\"value : \"))\n",
    "if(value1>=70):\n",
    "    print(\"Dist\")\n",
    "elif(value1<70 and value1>=65):\n",
    "    print(\"1st class\")\n",
    "elif(value1<65 and value1>=60):\n",
    "    print(\"2nd class\")\n",
    "elif(value1<60 and value1>=55):\n",
    "    print(\"3rd class\")\n",
    "else:\n",
    "    print(\"failed\")\n"
   ]
  },
  {
   "cell_type": "markdown",
   "id": "4fdd134b",
   "metadata": {},
   "source": [
    "blood donate\n",
    "-- age should be greater than 18\n",
    "-- weight should be greater that 50\n",
    "-- if age and weight both match then only user can donate blood\n",
    "-- if age is less that 18 show msg. \"under age\"\n",
    "-- if weight is less than 50 show msg \"under weight:\n",
    "-- if age is less than 18 it should not ask weight"
   ]
  },
  {
   "cell_type": "code",
   "execution_count": null,
   "id": "f16090de",
   "metadata": {},
   "outputs": [
    {
     "name": "stdout",
     "output_type": "stream",
     "text": [
      "Enter your age : 18\n"
     ]
    }
   ],
   "source": [
    "age = int(input(\"Enter your age : \"))\n",
    "if(age>=18):\n",
    "    weight = int(input(\"Enter your weight : \"))\n",
    "    if(weight>=50):\n",
    "        print(\"you can now donate blood\")\n",
    "    else:\n",
    "        print(\"you are under weihgt\")\n",
    "else: \n",
    "    print(\"you are under age\")"
   ]
  },
  {
   "cell_type": "markdown",
   "id": "ebde64b5",
   "metadata": {},
   "source": [
    "Pizza App\n",
    "\n",
    "Note-- user should have 4 wheeler then only iser can buy\n",
    "\n",
    "small -- buy 4 small pizza offer 500ml coke for free\n",
    "Medium -- buy 3 medium pizza offer 1 ltr coke free\n",
    "large -- buy 2 large pizza offer 1 ice cream woth brownie\n",
    "monster -- buy 1 monster pizza offer 1 small pizza and 500ml coke\n",
    "\n",
    "user input:\n",
    "wheeler = yes/ no\n",
    "size = string\n",
    "qty = int\n",
    "\n",
    "NOte: after size only it should ask for qty"
   ]
  },
  {
   "cell_type": "code",
   "execution_count": 56,
   "id": "3e744c04",
   "metadata": {},
   "outputs": [
    {
     "name": "stdout",
     "output_type": "stream",
     "text": [
      "Car user : yes\n"
     ]
    }
   ],
   "source": [
    "value = input(\"Car user : \")\n",
    "if(value==\"YES\"):\n",
    "    size = input(\"pls enter pizza size : \")\n",
    "    if(size==\"small\", \"medium\", \"large\", \"monster\" )\n",
    "    qty = int(input(\"pls enter QTY : \"))\n",
    "    g"
   ]
  },
  {
   "cell_type": "code",
   "execution_count": null,
   "id": "ce9c0c3f",
   "metadata": {},
   "outputs": [],
   "source": []
  }
 ],
 "metadata": {
  "kernelspec": {
   "display_name": "Python 3 (ipykernel)",
   "language": "python",
   "name": "python3"
  },
  "language_info": {
   "codemirror_mode": {
    "name": "ipython",
    "version": 3
   },
   "file_extension": ".py",
   "mimetype": "text/x-python",
   "name": "python",
   "nbconvert_exporter": "python",
   "pygments_lexer": "ipython3",
   "version": "3.11.3"
  }
 },
 "nbformat": 4,
 "nbformat_minor": 5
}
